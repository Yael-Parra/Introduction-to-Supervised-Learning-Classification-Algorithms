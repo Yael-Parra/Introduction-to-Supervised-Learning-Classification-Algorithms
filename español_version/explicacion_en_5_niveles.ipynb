{
 "cells": [
  {
   "cell_type": "markdown",
   "metadata": {},
   "source": [
    "______\n",
    "\n",
    "# <center> <span style=\"color:#f6f794\"> Explicado en 5 niveles diferentes: </span> </center>\n",
    "\n",
    "#### <span style=\"color:#c69005\"> 1. Para un niño menor de 10 años: </span>\n",
    "\n",
    "Imagina que tienes una canasta de juguetes y necesitas ordenarlos en dos cajas: una para autos 🚗 y una para muñecas 🏰. Tu mamá te muestra algunos juguetes y te dice cuál es cuál, como:\n",
    "\n",
    "- **\"¡Este es un auto!\"** 🚗\n",
    "- **\"¡Esta es una muñeca!\"** 🪆\n",
    " \n",
    "Después de hacerlo muchas veces, comienzas a saber qué juguetes pertenecen a cada caja. Ahora, cuando ves un juguete nuevo, puedes adivinar si es un auto o una muñeca.\n",
    "\n",
    "¡Esto es como **aprendizaje supervisado** — la computadora aprende de ejemplos para descubrir cosas nuevas!\n",
    "\n",
    "#### <span style=\"color:#c69005\"> 2. Para un adolescente: </span>\n",
    "\n",
    "El aprendizaje supervisado es como enseñar a una computadora a reconocer cosas usando ejemplos. Imagina que estás entrenando un programa para saber si un correo electrónico es spam o no.\n",
    "\n",
    "Le das un montón de correos con etiquetas:\n",
    "- **\"¡Este es spam!\"**    😨😨😨😨😨\n",
    "- **\"¡Este no es spam!\"** 😅\n",
    "\n",
    "La computadora observa estos ejemplos, identifica patrones (como ciertas palabras o frases) y luego, cuando le das un correo nuevo, puede decidir si es spam o no, basándose en lo que aprendió de los ejemplos.\n",
    "\n",
    "Se llama **supervisado** porque le das a la computadora las respuestas correctas (etiquetas) durante el entrenamiento.\n",
    "\n",
    "#### <span style=\"color:#c69005\"> 3. Para un estudiante universitario: </span>\n",
    "\n",
    "El aprendizaje supervisado es un tipo de aprendizaje automático donde el algoritmo aprende de datos etiquetados. Se le proporcionan pares de entrada-salida, donde cada entrada está asociada con una salida conocida (etiqueta). El modelo \"aprende\" la relación entre las entradas y las salidas durante el entrenamiento.\n",
    "\n",
    "Por ejemplo, en un problema de clasificación, la entrada podría ser características como las palabras en un correo electrónico, y la salida (etiqueta) podría ser si es spam o no. El modelo se entrena para minimizar el error ajustando sus parámetros de manera que, dado un nuevo conjunto de datos no vistos, pueda predecir la salida correcta.\n",
    "\n",
    "Este proceso de aprendizaje es \"supervisado\" porque las respuestas correctas se proporcionan durante la fase de entrenamiento.\n",
    "\n",
    "#### <span style=\"color:#c69005\"> 4. Para un estudiante universitario que estudia aprendizaje automático: </span>\n",
    "\n",
    "En el aprendizaje supervisado, el modelo se entrena utilizando datos etiquetados, lo que significa que cada muestra de entrada está emparejada con su correspondiente salida objetivo. El algoritmo aprende a aproximar la relación entre las características de entrada y las etiquetas objetivo minimizando una función de pérdida, a menudo utilizando métodos de optimización basados en gradientes.\n",
    "\n",
    "Por ejemplo, en una tarea de clasificación, podrías entrenar una máquina de vectores de soporte (SVM) para clasificar imágenes de gatos y perros, donde las características de entrada son los valores de los píxeles y las etiquetas de salida son \"gato\" o \"perro\". El objetivo es que el modelo generalice bien a nuevos datos no vistos aprendiendo la distribución subyacente de las relaciones entre entrada y salida.\n",
    "\n",
    "El aprendizaje supervisado puede ser utilizado tanto para **clasificación** (salidas discretas) como para **regresión** (salidas continuas), y la efectividad del modelo depende de la calidad de los datos etiquetados y de la elección del modelo.\n",
    "\n",
    "#### <span style=\"color:#c69005\"> 5. Para un doctorando en Aprendizaje Automático: </span>\n",
    "\n",
    "El aprendizaje supervisado es un subcampo del aprendizaje automático en el que los modelos se entrenan en conjuntos de datos etiquetados para predecir o clasificar datos futuros no vistos. La idea clave es aproximar una función \\( f(x) \\) que mapea características de entrada \\( x \\) a etiquetas de salida \\( y \\), típicamente minimizando una función de pérdida \\( L(y, \\hat{y}) \\) que cuantifica la discrepancia entre las salidas predichas \\( \\hat{y} \\) y las etiquetas verdaderas \\( y \\).\n",
    "\n",
    "Modelos matemáticos como la regresión lineal, árboles de decisión y redes neuronales se utilizan para aprender esta relación. La fase de entrenamiento implica optimizar los parámetros del modelo, a menudo utilizando descenso de gradiente u otras técnicas de optimización, basándose en los datos etiquetados proporcionados. El aprendizaje supervisado asume que los datos son IID (independientes e idénticamente distribuidos) y que los datos de entrenamiento son representativos de la distribución de datos futuros.\n",
    "\n",
    "En problemas complejos como el reconocimiento de imágenes, el aprendizaje supervisado ha dado lugar a avances en el aprendizaje profundo aprovechando grandes conjuntos de datos etiquetados y arquitecturas computacionalmente intensivas como las redes neuronales convolucionales (CNN). Si bien el aprendizaje supervisado requiere grandes cantidades de datos etiquetados, sigue siendo un pilar fundamental en el aprendizaje automático y las aplicaciones de inteligencia artificial."
   ]
  }
 ],
 "metadata": {
  "language_info": {
   "name": "python"
  }
 },
 "nbformat": 4,
 "nbformat_minor": 2
}
