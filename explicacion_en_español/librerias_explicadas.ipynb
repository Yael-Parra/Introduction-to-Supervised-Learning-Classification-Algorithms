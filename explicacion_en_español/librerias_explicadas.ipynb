{
 "cells": [
  {
   "cell_type": "markdown",
   "metadata": {},
   "source": [
    "# <span style=\"color:#f6f794\"> Vamos a explorar un poco lo que podemos hacer con estas bibliotecas </span> 📚\n",
    "\n",
    "#### <span style=\"color:#c69005\"> Algoritmos para clasificación **bibliotecas**: </span>\n",
    "\n",
    "1. **Scikit-learn**\n",
    "2. **TensorFlow (Keras)**\n",
    "3. **XGBoost**\n",
    "4. **LightGBM**\n",
    "5. **PyTorch**\n",
    "6. **CatBoost**\n",
    "7. **H2O.ai**\n",
    "8. **MLlib (Apache Spark)**\n",
    "9. **Fast.ai**\n",
    "10. **Keras (Standalone)**"
   ]
  }
 ],
 "metadata": {
  "language_info": {
   "name": "python"
  }
 },
 "nbformat": 4,
 "nbformat_minor": 2
}
