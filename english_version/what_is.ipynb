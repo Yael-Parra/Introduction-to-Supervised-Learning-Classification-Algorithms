{
 "cells": [
  {
   "cell_type": "markdown",
   "metadata": {},
   "source": [
    "# <center> <span style=\"color:#f6f794\">Introduction to: </span> </center>\n",
    "\n",
    "# <center> <span style=\"color:#f6f794\"> **Supervised ML: Classification Algorithms** </span> </center>"
   ]
  },
  {
   "cell_type": "markdown",
   "metadata": {},
   "source": [
    "### <span style=\"color:#F2C122\">Dissectioning the topic:</span>"
   ]
  },
  {
   "cell_type": "markdown",
   "metadata": {},
   "source": [
    "#### <span style=\"color:#c69005\"> What is \"**ML**\" ? </span>\n",
    "\n",
    "ML stands for Machine Learning and it is a part of AI where **computers learn from data to make decisions or predictions by \"itself\"**, without needing step-by-step (hard-code) instructions. Over time, ML systems get better at recognizing patterns and improving their accuracy—just like how humans learn from practice."
   ]
  },
  {
   "cell_type": "markdown",
   "metadata": {},
   "source": [
    "#### <span style=\"color:#c69005\"> What is \"**Supervised**\" ? </span>\n",
    "\n",
    "Supervised learning is a type of machine learning (ML) where a model is trained using **labeled** data. In this approach, each input comes with a corresponding output (label), and the model learns to map inputs to the correct output by minimizing errors.\n",
    "\n",
    "### <span style=\"color:#c69005\"> What are the **differences** between supervised and unsupervised </span>\n",
    "\n",
    "| Feature              | Supervised Learning                                         | Unsupervised Learning                                      |\n",
    "|----------------------|-------------------------------------------------------------|------------------------------------------------------------|\n",
    "| **Definition**        | The model is trained on <span style=\"color:#f6f794\">**labeled**</span> data.  | The model works with <span style=\"color:#f6f794\">**unlabeled**</span> data and tries to find hidden patterns. |\n",
    "| **Goal**              | **Learn** the relationship between input data and known output labels. | **Discover** inherent structures in data, such as clusters or patterns. |\n",
    "| **Example**           | **Classifying** emails as \"spam\" or \"not spam\".                 | **Grouping** customers based on purchasing behavior.           |\n",
    "| **Data**              | Requires **labeled** data.                                      | Works with **unlabeled** data.                                 |\n",
    "| **Outcome**           | **Predicts** the output based on input data. | **Finds patterns** or groups.         |\n"
   ]
  },
  {
   "cell_type": "markdown",
   "metadata": {},
   "source": [
    "#### <span style=\"color:#c69005\"> What is a \"**Classification Algorithms**\" ? </span>\n",
    "\n",
    "Classification is a type of supervised learning where the goal is to <span style=\"color:#f6f794\"> **assign an input** </span> to one of several predefined categories or classes based on its features. Each input is labeled with a class, and the model learns to predict the class for new, unseen data.\n",
    "\n",
    "* Example: Given an image of a flower, classifying it as “rose,” “tulip,” or “daisy.”\n",
    "\n",
    "#### Confused? \n",
    "\n",
    "| **Techniques**        | **Description**                                               | **Key Difference with Classification**                                        |\n",
    "|-----------------------|---------------------------------------------------------------|-------------------------------------------------------------------------------|\n",
    "| **Classification**     | <span style=\"color:#f6f794\"> **Assigning** </span> an input into one of several predefined categories or classes. | <span style=\"color:#f6f794\"> **Each input is assigned to one class** </span> .                                          |\n",
    "| **Segmentation**       | <span style=\"color:#f6f794\"> **Dividing** </span> data into meaningful segments or regions (often in images or text). | Involves dividing data into parts, but not necessarily assigning each part to a class. |\n",
    "| **Clustering**         | <span style=\"color:#f6f794\"> **Grouping** </span> similar data points together without predefined labels. | Involves grouping data but without the aim of classifying each individual item. |\n",
    "| **Regression**         | <span style=\"color:#f6f794\"> **Predicting** </span> a continuous value (numeric) based on input data. | Classification involves discrete classes, while regression <u> **deals with continuous outputs** </u> . |\n",
    "| **Anomaly Detection**  | <span style=\"color:#f6f794\"> **Identifying** </span> unusual or outlier data points that deviate from normal patterns. | Classification assigns labels, while anomaly detection <u> **identifies data points that don’t fit the pattern** </u> . |\n",
    "\n",
    "\n",
    "#### <span style=\"color:#c69005\"> **When** to Use Classification Algorithms and How They Are Useful </span>\n",
    "\n",
    "Classification algorithms are useful when you have **labeled** data, and your goal is to **categorize** new data points into one of several predefined **classes** or labels.\n",
    "\n",
    "* <u> Typical Use Cases: </u>\n",
    "\n",
    "    * **Email Spam Detection:** Classifying emails as “spam” or “not spam.”\n",
    "    * **Medical Diagnosis:** Classifying patient data into categories like \"sick\" or \"healthy\" based on symptoms and test results.\n",
    "    * **Image Recognition:** Identifying objects in images, such as classifying an image of a pet as “cat,” “dog,” or “bird.”\n",
    "    * **Sentiment Analysis:** Classifying text as positive, negative, or neutral (commonly used in social media or product reviews).\n",
    "    * **Customer Churn Prediction:** Predicting whether a customer will leave or stay with a service provider.\n",
    "\n",
    "#### <span style=\"color:#c69005\"> **Why** are Classification Algorithms Useful?  </span>\n",
    "\n",
    "* **Automation of Decision-Making:** Classification helps automate processes like fraud detection, recommendation systems, or medical diagnosis.\n",
    "* **Improved Accuracy:** It helps in making predictions about unseen data based on learned patterns from the training data.\n",
    "* **Efficient Categorization:** Classification helps categorize vast amounts of data quickly and accurately, enabling businesses to make data-driven decisions.\n",
    "* **Risk Management:** Helps in identifying risks, such as detecting fraudulent transactions or predicting equipment failure.\n",
    "\n",
    "#### <span style=\"color:#c69005\"> Key **Advantages** of Classification Algorithms: </span>\n",
    "\n",
    "* **Versatility:** Can be applied to a wide range of domains (e.g., finance, healthcare, marketing).\n",
    "* **Scalability:** Can handle large datasets, especially with algorithms.\n",
    "* **Interpretability:** Many classification algorithms provide insight into how decisions are made, which is useful for understanding model behavior.\n",
    " \n",
    "#### <span style=\"color:#c69005\"> Algorithms for classification **libraries**: </span>\n",
    "\n",
    "1. **Scikit-learn**\n",
    "2. **TensorFlow (Keras)**\n",
    "3. **XGBoost**\n",
    "4. **LightGBM**\n",
    "5. **PyTorch**\n",
    "6. **CatBoost**\n",
    "7. **H2O.ai**\n",
    "8. **MLlib (Apache Spark)**\n",
    "9. **Fast.ai**\n",
    "10. **Keras (Standalone)**"
   ]
  },
  {
   "cell_type": "markdown",
   "metadata": {},
   "source": [
    "______\n",
    "\n",
    "# <span style=\"color:#F2C122\"> Key words: </span>\n",
    "\n",
    "- **Supervised Learning**: A type of machine learning where the model is trained with labeled data to make predictions.\n",
    "- **Model**: A mathematical representation or algorithm that learns from data to make predictions or decisions.\n",
    "- **Labeled Data**: Data where each input is paired with a known output (label).\n",
    "- **Mapping**: The process of learning a relationship between input data and output labels in supervised learning.\n",
    "- **Input Features**: The data used by the model to make predictions (e.g., words, numbers, images).\n",
    "- **Output Labels**: The correct answers or categories assigned to the input features during training.\n",
    "- **Training**: The process of teaching a model by providing it with labeled data so it can learn.\n",
    "- **Loss Function**: A function that measures how far the model's predictions are from the actual answers, which the model tries to minimize.\n",
    "- **Prediction**: The result or output produced by the model based on new input data.\n",
    "- **Classification**: A type of supervised learning where the model assigns input data into categories or classes.\n",
    "- **Regression**: A type of supervised learning where the model predicts continuous numerical values.\n",
    "- **Generalization**: The model's ability to make accurate predictions on new, unseen data.\n",
    "- **Optimization**: The process of adjusting the model's parameters to minimize errors and improve performance.\n",
    "- **Gradient Descent**: A popular optimization technique used to adjust model parameters by reducing the loss function.\n",
    "\n",
    "# <span style=\"color:#F2C122\"> Key words but lets make it easier: </span>\n",
    "\n",
    "- **Supervised Learning**: Teaching a computer to make decisions by showing it examples with the right answers.\n",
    "- **Model**: A tool (like a robot brain) that learns from data to help make decisions or predictions.\n",
    "- **Labeled Data**: Information where we already know the correct answer or category (like marking emails as \"spam\" or \"not spam\").\n",
    "- **Mapping**: The process of connecting what the computer learns from the data to the right answer.\n",
    "- **Input Features**: The information the computer uses to make its guess (like pictures, words, or numbers).\n",
    "- **Output Labels**: The correct answer or category that we want the computer to predict (like \"spam\" or \"not spam\").\n",
    "- **Training**: The process where the computer looks at examples and learns to make predictions.\n",
    "- **Loss Function**: A way to measure how far off the computer’s guesses are from the right answer, and the goal is to make it as small as possible.\n",
    "- **Prediction**: The computer's best guess about what the answer should be for new information it has never seen before.\n",
    "- **Classification**: A type of learning where the computer puts things into different groups or categories.\n",
    "- **Regression**: A type of learning where the computer predicts a number, like guessing the price of a house.\n",
    "- **Generalization**: When the computer is good at making correct predictions, even for new things it hasn’t seen before.\n",
    "- **Optimization**: Adjusting the computer's thinking to improve its decision-making and get better at making predictions.\n",
    "- **Gradient Descent**: A method the computer uses to get better by learning from its mistakes and slowly improving its guesses.\n"
   ]
  }
 ],
 "metadata": {
  "kernelspec": {
   "display_name": ".venv",
   "language": "python",
   "name": "python3"
  },
  "language_info": {
   "codemirror_mode": {
    "name": "ipython",
    "version": 3
   },
   "file_extension": ".py",
   "mimetype": "text/x-python",
   "name": "python",
   "nbconvert_exporter": "python",
   "pygments_lexer": "ipython3",
   "version": "3.13.2"
  }
 },
 "nbformat": 4,
 "nbformat_minor": 2
}
