{
 "cells": [
  {
   "cell_type": "markdown",
   "metadata": {},
   "source": [
    "# <span style=\"color:#f6f794\"> Let's explore a little bit what we can do with these libraries </span> 📚 \n",
    "\n",
    "#### <span style=\"color:#c69005\"> Algorithms for classification **libraries**: </span>\n",
    "\n",
    "1. **Scikit-learn**\n",
    "2. **TensorFlow (Keras)**\n",
    "3. **XGBoost**\n",
    "4. **LightGBM**\n",
    "5. **PyTorch**\n",
    "6. **CatBoost**\n",
    "7. **H2O.ai**\n",
    "8. **MLlib (Apache Spark)**\n",
    "9. **Fast.ai**\n",
    "10. **Keras (Standalone)**"
   ]
  },
  {
   "cell_type": "markdown",
   "metadata": {},
   "source": [
    "### 1. **Scikit-learn**\n",
    "\n",
    "* <u> Description: </u> One of the most widely used libraries for machine learning in Python. It provides simple and efficient tools for data mining and data analysis, including a wide range of classification algorithms.\n",
    "\n",
    "* <u> Popular Algorithms: </u> Logistic Regression, Decision Trees, Random Forests, k-Nearest Neighbors (k-NN), Support Vector Machines (SVM), Naive Bayes, etc."
   ]
  },
  {
   "cell_type": "code",
   "execution_count": null,
   "metadata": {},
   "outputs": [],
   "source": []
  },
  {
   "cell_type": "markdown",
   "metadata": {},
   "source": [
    "### 2. **TensorFlow (Keras)**\n",
    "\n",
    "* <u> Description: </u>  A powerful library for deep learning. Keras, which is now part of TensorFlow, allows you to build neural network-based classifiers with ease.\n",
    "\n",
    "* <u> Popular Algorithms: </u> Neural Networks, Deep Learning models, Convolutional Neural Networks (CNNs), etc."
   ]
  },
  {
   "cell_type": "code",
   "execution_count": null,
   "metadata": {},
   "outputs": [],
   "source": []
  },
  {
   "cell_type": "markdown",
   "metadata": {},
   "source": [
    "### 3. **XGBoost**\n",
    "\n",
    "* <u> Description: </u> An optimized gradient boosting library designed for speed and performance. It is often used for classification problems and has been successful in many Kaggle competitions.\n",
    "\n",
    "* <u> Popular Algorithms: </u>  Gradient Boosting Machines (GBM), XGBoost classifiers."
   ]
  },
  {
   "cell_type": "code",
   "execution_count": null,
   "metadata": {},
   "outputs": [],
   "source": []
  },
  {
   "cell_type": "markdown",
   "metadata": {},
   "source": [
    "### 4. **LightGBM**\n",
    "\n",
    "* <u> Description: </u> Another gradient boosting library, which is faster than XGBoost for large datasets. It's also highly efficient for classification tasks.\n",
    "\n",
    "* <u> Popular Algorithms: </u>  Gradient Boosting, LightGBM classifier."
   ]
  },
  {
   "cell_type": "code",
   "execution_count": null,
   "metadata": {},
   "outputs": [],
   "source": []
  },
  {
   "cell_type": "markdown",
   "metadata": {},
   "source": [
    "### 5. **PyTorch**\n",
    "\n",
    "* <u> Description: </u>  A deep learning library that allows you to build powerful neural networks for various machine learning tasks, including classification. It provides flexibility and control, making it popular among researchers.\n",
    "\n",
    "* <u> Popular Algorithms: </u> Neural Networks, Convolutional Neural Networks (CNNs), Recurrent Neural Networks (RNNs), and other deep learning models."
   ]
  },
  {
   "cell_type": "code",
   "execution_count": null,
   "metadata": {},
   "outputs": [],
   "source": []
  },
  {
   "cell_type": "markdown",
   "metadata": {},
   "source": [
    "### 6. **CatBoost**\n",
    "\n",
    "* <u> Description: </u> A gradient boosting library developed by Yandex that is specifically designed for categorical data. It is fast and performs well on classification tasks, requiring less preprocessing compared to other algorithms.\n",
    "\n",
    "* <u> Popular Algorithms: </u> Gradient Boosting, CatBoost classifier."
   ]
  },
  {
   "cell_type": "code",
   "execution_count": null,
   "metadata": {},
   "outputs": [],
   "source": []
  },
  {
   "cell_type": "markdown",
   "metadata": {},
   "source": [
    "### 7. **H2O.ai**\n",
    "\n",
    "* <u> Description: </u> An open-source platform for machine learning and artificial intelligence. It provides easy-to-use algorithms for large-scale data processing and is known for its speed and scalability in classification tasks.\n",
    "\n",
    "* <u> Popular Algorithms: Gradient Boosting Machines (GBM), Random Forests, Deep Learning, Naive Bayes, Generalized Linear Models (GLM)."
   ]
  },
  {
   "cell_type": "code",
   "execution_count": null,
   "metadata": {},
   "outputs": [],
   "source": []
  },
  {
   "cell_type": "markdown",
   "metadata": {},
   "source": [
    "### 8. **MLlib (Apache Spark)**\n",
    "\n",
    "* <u> Description: </u> A scalable machine learning library built on top of Apache Spark. It’s designed for distributed computing and is ideal for big data classification tasks.\n",
    "\n",
    "* <u> Popular Algorithms: </u> Logistic Regression, Decision Trees, Random Forests, Naive Bayes, Support Vector Machines (SVM)."
   ]
  },
  {
   "cell_type": "code",
   "execution_count": null,
   "metadata": {},
   "outputs": [],
   "source": []
  },
  {
   "cell_type": "markdown",
   "metadata": {},
   "source": [
    "### 9. **Fast.ai**\n",
    "\n",
    "* <u> Description: </u> A high-level library built on top of PyTorch, designed to make deep learning more accessible. It simplifies the creation of complex neural network models and is used widely in classification and other tasks.\n",
    "\n",
    "* <u> Popular Algorithms: </u> Deep Learning models, Convolutional Neural Networks (CNNs), Transfer Learning."
   ]
  },
  {
   "cell_type": "code",
   "execution_count": null,
   "metadata": {},
   "outputs": [],
   "source": []
  },
  {
   "cell_type": "markdown",
   "metadata": {},
   "source": [
    "### 10. **Keras (Standalone)**\n",
    "\n",
    "* <u> Description: </u> A high-level neural networks API written in Python, designed to enable fast experimentation. It is now part of TensorFlow but can still be used as a standalone library for deep learning tasks.\n",
    "\n",
    "* <u> Popular Algorithms: </u> Neural Networks, Convolutional Neural Networks (CNNs), Recurrent Neural Networks (RNNs), Deep Learning models."
   ]
  },
  {
   "cell_type": "code",
   "execution_count": null,
   "metadata": {},
   "outputs": [],
   "source": []
  }
 ],
 "metadata": {
  "kernelspec": {
   "display_name": ".venv",
   "language": "python",
   "name": "python3"
  },
  "language_info": {
   "name": "python",
   "version": "3.13.2"
  }
 },
 "nbformat": 4,
 "nbformat_minor": 2
}
