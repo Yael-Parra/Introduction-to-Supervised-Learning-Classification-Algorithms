{
 "cells": [
  {
   "cell_type": "code",
   "execution_count": null,
   "id": "1c7fa52e",
   "metadata": {},
   "outputs": [],
   "source": [
    "from sklearn.tree import DecisionTreeClassifier\n",
    "from sklearn.tree import plot_tree\n",
    "\n",
    "# Crear y entrenar modelo\n",
    "modelo_arbol = DecisionTreeClassifier(max_depth=3)\n",
    "modelo_arbol.fit(X_train, y_train)\n",
    "\n",
    "# Evaluar\n",
    "y_pred = modelo_arbol.predict(X_test)\n",
    "accuracy = accuracy_score(y_test, y_pred)\n",
    "print(f\"Precisión: {accuracy}\")\n",
    "\n",
    "# Visualizar árbol\n",
    "plt.figure(figsize=(15, 10))\n",
    "plot_tree(modelo_arbol, filled=True, feature_names=[f\"X{i}\" for i in range(X.shape[1])], \n",
    "          class_names=[f\"Clase {i}\" for i in np.unique(y)])\n",
    "plt.title(\"Árbol de Decisión\")\n",
    "plt.show()"
   ]
  }
 ],
 "metadata": {
  "language_info": {
   "name": "python"
  }
 },
 "nbformat": 4,
 "nbformat_minor": 5
}
