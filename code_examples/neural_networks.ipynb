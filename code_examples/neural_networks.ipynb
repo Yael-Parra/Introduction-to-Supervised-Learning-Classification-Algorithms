{
 "cells": [
  {
   "cell_type": "code",
   "execution_count": null,
   "id": "5429345a",
   "metadata": {},
   "outputs": [],
   "source": [
    "from sklearn.neural_network import MLPClassifier\n",
    "from sklearn.preprocessing import StandardScaler\n",
    "\n",
    "# Normalizar datos\n",
    "scaler = StandardScaler()\n",
    "X_train_scaled = scaler.fit_transform(X_train)\n",
    "X_test_scaled = scaler.transform(X_test)\n",
    "\n",
    "# Crear y entrenar modelo\n",
    "modelo_nn = MLPClassifier(hidden_layer_sizes=(100, 50), activation='relu', \n",
    "                          solver='adam', alpha=0.0001, max_iter=1000, random_state=42)\n",
    "modelo_nn.fit(X_train_scaled, y_train)\n",
    "\n",
    "# Evaluar\n",
    "y_pred = modelo_nn.predict(X_test_scaled)\n",
    "accuracy = accuracy_score(y_test, y_pred)\n",
    "print(f\"Precisión: {accuracy}\")\n",
    "print(classification_report(y_test, y_pred))\n",
    "\n",
    "# Con Keras/TensorFlow para redes más complejas\n",
    "from tensorflow import keras\n",
    "from tensorflow.keras import layers\n",
    "\n",
    "# Crear modelo\n",
    "model = keras.Sequential([\n",
    "    layers.Dense(100, activation='relu', input_shape=(X_train.shape[1],)),\n",
    "    layers.Dropout(0.2),\n",
    "    layers.Dense(50, activation='relu'),\n",
    "    layers.Dropout(0.2),\n",
    "    layers.Dense(len(np.unique(y)), activation='softmax')\n",
    "])\n",
    "\n",
    "# Compilar\n",
    "model.compile(optimizer='adam',\n",
    "              loss='sparse_categorical_crossentropy',\n",
    "              metrics=['accuracy'])\n",
    "\n",
    "# Entrenar\n",
    "model.fit(X_train_scaled, y_train, epochs=50, batch_size=32, \n",
    "          validation_data=(X_test_scaled, y_test), verbose=0)\n",
    "\n",
    "# Evaluar\n",
    "resultado = model.evaluate(X_test_scaled, y_test, verbose=0)\n",
    "print(f\"Precisión Keras: {resultado[1]}\")"
   ]
  }
 ],
 "metadata": {
  "language_info": {
   "name": "python"
  }
 },
 "nbformat": 4,
 "nbformat_minor": 5
}
