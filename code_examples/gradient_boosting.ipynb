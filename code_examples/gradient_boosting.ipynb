{
 "cells": [
  {
   "cell_type": "code",
   "execution_count": null,
   "id": "ed5b2f7e",
   "metadata": {},
   "outputs": [],
   "source": [
    "from sklearn.ensemble import GradientBoostingClassifier\n",
    "\n",
    "# Crear y entrenar modelo\n",
    "modelo_gb = GradientBoostingClassifier(n_estimators=100, learning_rate=0.1, max_depth=3, random_state=42)\n",
    "modelo_gb.fit(X_train, y_train)\n",
    "\n",
    "# Evaluar\n",
    "y_pred = modelo_gb.predict(X_test)\n",
    "accuracy = accuracy_score(y_test, y_pred)\n",
    "print(f\"Precisión: {accuracy}\")\n",
    "print(classification_report(y_test, y_pred))\n",
    "\n",
    "# Ejemplo con XGBoost\n",
    "import xgboost as xgb\n",
    "modelo_xgb = xgb.XGBClassifier(n_estimators=100, learning_rate=0.1, max_depth=3, random_state=42)\n",
    "modelo_xgb.fit(X_train, y_train)\n",
    "y_pred_xgb = modelo_xgb.predict(X_test)\n",
    "print(f\"Precisión XGBoost: {accuracy_score(y_test, y_pred_xgb)}\")"
   ]
  }
 ],
 "metadata": {
  "language_info": {
   "name": "python"
  }
 },
 "nbformat": 4,
 "nbformat_minor": 5
}
