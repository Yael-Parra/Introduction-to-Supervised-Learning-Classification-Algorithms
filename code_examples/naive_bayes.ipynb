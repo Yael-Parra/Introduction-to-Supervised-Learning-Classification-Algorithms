{
 "cells": [
  {
   "cell_type": "code",
   "execution_count": null,
   "id": "3fd7f0bb",
   "metadata": {},
   "outputs": [],
   "source": [
    "from sklearn.naive_bayes import GaussianNB, MultinomialNB, BernoulliNB\n",
    "\n",
    "# Gaussian Naive Bayes (para características continuas)\n",
    "modelo_gnb = GaussianNB()\n",
    "modelo_gnb.fit(X_train, y_train)\n",
    "y_pred_gnb = modelo_gnb.predict(X_test)\n",
    "print(f\"Precisión GaussianNB: {accuracy_score(y_test, y_pred_gnb)}\")\n",
    "\n",
    "# Multinomial Naive Bayes (para datos de conteo)\n",
    "# Asegurarse de que los datos son no negativos\n",
    "X_train_count = np.abs(X_train)\n",
    "X_test_count = np.abs(X_test)\n",
    "modelo_mnb = MultinomialNB()\n",
    "modelo_mnb.fit(X_train_count, y_train)\n",
    "y_pred_mnb = modelo_mnb.predict(X_test_count)\n",
    "print(f\"Precisión MultinomialNB: {accuracy_score(y_test, y_pred_mnb)}\")\n",
    "\n",
    "# Bernoulli Naive Bayes (para datos binarios)\n",
    "# Transformar datos a binarios (presencia/ausencia)\n",
    "X_train_bin = (X_train > 0).astype(int)\n",
    "X_test_bin = (X_test > 0).astype(int)\n",
    "modelo_bnb = BernoulliNB()\n",
    "modelo_bnb.fit(X_train_bin, y_train)\n",
    "y_pred_bnb = modelo_bnb.predict(X_test_bin)\n",
    "print(f\"Precisión BernoulliNB: {accuracy_score(y_test, y_pred_bnb)}\")"
   ]
  }
 ],
 "metadata": {
  "language_info": {
   "name": "python"
  }
 },
 "nbformat": 4,
 "nbformat_minor": 5
}
